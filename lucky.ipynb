{
  "nbformat": 4,
  "nbformat_minor": 0,
  "metadata": {
    "colab": {
      "provenance": []
    },
    "kernelspec": {
      "name": "python3",
      "display_name": "Python 3"
    },
    "language_info": {
      "name": "python"
    }
  },
  "cells": [
    {
      "cell_type": "code",
      "execution_count": 1,
      "metadata": {
        "colab": {
          "base_uri": "https://localhost:8080/"
        },
        "id": "e0QANyNfjkch",
        "outputId": "8d2f7d57-563d-48ca-b5b0-3c90fd2ae778"
      },
      "outputs": [
        {
          "output_type": "stream",
          "name": "stdout",
          "text": [
            "Available operations: add, sub, mult, div, modulo, sin, cos, tan\n",
            "Enter the operation you want to perform: sin\n",
            "Enter the angle in degrees: 45\n",
            "Result: 0.7071067811865475\n"
          ]
        }
      ],
      "source": [
        "import math  # For trigonometric functions\n",
        "\n",
        "def calculator():\n",
        "    try:\n",
        "        print(\"Available operations: add, sub, mult, div, modulo, sin, cos, tan\")\n",
        "        operation = input(\"Enter the operation you want to perform: \").lower()\n",
        "\n",
        "        # For arithmetic operations\n",
        "        if operation in ['add', 'sub', 'mult', 'div', 'modulo']:\n",
        "            num1 = float(input(\"Enter the first number: \"))\n",
        "            num2 = float(input(\"Enter the second number: \"))\n",
        "            if operation == \"add\":\n",
        "                print(f\"Result: {num1 + num2}\")\n",
        "            elif operation == \"sub\":\n",
        "                print(f\"Result: {num1 - num2}\")\n",
        "            elif operation == \"mult\":\n",
        "                print(f\"Result: {num1 * num2}\")\n",
        "            elif operation == \"div\":\n",
        "                if num2 != 0:\n",
        "                    print(f\"Result: {num1 / num2}\")\n",
        "                else:\n",
        "                    print(\"Error: Division by zero is not allowed.\")\n",
        "            elif operation == \"modulo\":\n",
        "                print(f\"Result: {num1 % num2}\")\n",
        "\n",
        "        # For trigonometric operations\n",
        "        elif operation in ['sin', 'cos', 'tan']:\n",
        "            angle = float(input(\"Enter the angle in degrees: \"))\n",
        "            radians = math.radians(angle)  # Convert degrees to radians\n",
        "            if operation == \"sin\":\n",
        "                print(f\"Result: {math.sin(radians)}\")\n",
        "            elif operation == \"cos\":\n",
        "                print(f\"Result: {math.cos(radians)}\")\n",
        "            elif operation == \"tan\":\n",
        "                print(f\"Result: {math.tan(radians)}\")\n",
        "\n",
        "        else:\n",
        "            print(\"Error: Invalid operation.\")\n",
        "\n",
        "    except ValueError:\n",
        "        print(\"Error: Invalid input. Please enter numeric values where required.\")\n",
        "\n",
        "\n",
        "# Run the calculator\n",
        "calculator()\n"
      ]
    }
  ]
}